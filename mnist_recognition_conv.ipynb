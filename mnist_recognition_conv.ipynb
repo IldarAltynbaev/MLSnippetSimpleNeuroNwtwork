{
  "cells": [
    {
      "cell_type": "markdown",
      "metadata": {
        "id": "view-in-github",
        "colab_type": "text"
      },
      "source": [
        "<a href=\"https://colab.research.google.com/github/IldarAltynbaev/MLSnippetSimpleNeuroNwtwork/blob/main/mnist_recognition_conv.ipynb\" target=\"_parent\"><img src=\"https://colab.research.google.com/assets/colab-badge.svg\" alt=\"Open In Colab\"/></a>"
      ]
    },
    {
      "cell_type": "code",
      "execution_count": 75,
      "metadata": {
        "colab": {
          "base_uri": "https://localhost:8080/"
        },
        "id": "85_HkTjcNZeg",
        "outputId": "8b30eab2-0640-4d41-e1e5-ce3d8aa5bc7d"
      },
      "outputs": [
        {
          "output_type": "stream",
          "name": "stdout",
          "text": [
            "Drive already mounted at /content/drive; to attempt to forcibly remount, call drive.mount(\"/content/drive\", force_remount=True).\n"
          ]
        }
      ],
      "source": [
        "import torch\n",
        "import random\n",
        "import numpy as np\n",
        "from PIL import Image\n",
        "from PIL import ImageEnhance\n",
        "from PIL import ImageOps\n",
        "from google.colab import drive\n",
        "import torchvision.transforms as transforms\n",
        "\n",
        "drive.mount('/content/drive')\n",
        "\n",
        "\n",
        "random.seed(0)\n",
        "np.random.seed(0)\n",
        "torch.manual_seed(0)\n",
        "torch.cuda.manual_seed(0)\n",
        "torch.backends.cudnn.deterministic = True"
      ]
    },
    {
      "cell_type": "code",
      "execution_count": 76,
      "metadata": {
        "id": "kjPVw9UfNZel"
      },
      "outputs": [],
      "source": [
        "import torchvision.datasets"
      ]
    },
    {
      "cell_type": "code",
      "execution_count": 77,
      "metadata": {
        "id": "buWKcUqGNZeo"
      },
      "outputs": [],
      "source": [
        "MNIST_train = torchvision.datasets.MNIST('./', download=True, train=True)\n",
        "MNIST_test = torchvision.datasets.MNIST('./', download=True, train=False)\n"
      ]
    },
    {
      "cell_type": "code",
      "execution_count": 78,
      "metadata": {
        "colab": {
          "base_uri": "https://localhost:8080/"
        },
        "id": "nyrpGOtPNZeq",
        "outputId": "1e1cfed2-bc70-4e1a-ccd6-7eec2c57474e"
      },
      "outputs": [
        {
          "output_type": "stream",
          "name": "stderr",
          "text": [
            "/usr/local/lib/python3.10/dist-packages/torchvision/datasets/mnist.py:75: UserWarning: train_data has been renamed data\n",
            "  warnings.warn(\"train_data has been renamed data\")\n",
            "/usr/local/lib/python3.10/dist-packages/torchvision/datasets/mnist.py:65: UserWarning: train_labels has been renamed targets\n",
            "  warnings.warn(\"train_labels has been renamed targets\")\n",
            "/usr/local/lib/python3.10/dist-packages/torchvision/datasets/mnist.py:80: UserWarning: test_data has been renamed data\n",
            "  warnings.warn(\"test_data has been renamed data\")\n",
            "/usr/local/lib/python3.10/dist-packages/torchvision/datasets/mnist.py:70: UserWarning: test_labels has been renamed targets\n",
            "  warnings.warn(\"test_labels has been renamed targets\")\n"
          ]
        }
      ],
      "source": [
        "X_train = MNIST_train.train_data\n",
        "y_train = MNIST_train.train_labels\n",
        "X_test = MNIST_test.test_data\n",
        "y_test = MNIST_test.test_labels"
      ]
    },
    {
      "cell_type": "code",
      "execution_count": 79,
      "metadata": {
        "id": "f_TmOTWdNZet"
      },
      "outputs": [],
      "source": [
        "#len(y_train), len(y_test)\n",
        "\n"
      ]
    },
    {
      "cell_type": "code",
      "execution_count": 80,
      "metadata": {
        "colab": {
          "base_uri": "https://localhost:8080/",
          "height": 447
        },
        "id": "Zd-E4vIpNZe1",
        "outputId": "87fd8ed8-3e86-4089-b7ad-1c6919a435ec"
      },
      "outputs": [
        {
          "output_type": "display_data",
          "data": {
            "text/plain": [
              "<Figure size 640x480 with 1 Axes>"
            ],
            "image/png": "[encoded data removed]"
          },
          "metadata": {}
        },
        {
          "output_type": "stream",
          "name": "stdout",
          "text": [
            "tensor(5)\n"
          ]
        }
      ],
      "source": [
        "import matplotlib.pyplot as plt\n",
        "plt.imshow(X_train[2, :, :])\n",
        "plt.show()\n",
        "print(y_train[0])"
      ]
    },
    {
      "cell_type": "code",
      "execution_count": 81,
      "metadata": {
        "id": "Tf9LiDGuNZe6"
      },
      "outputs": [],
      "source": [
        "X_train = X_train.unsqueeze(1).float()\n",
        "X_test = X_test.unsqueeze(1).float()"
      ]
    },
    {
      "cell_type": "code",
      "execution_count": 82,
      "metadata": {
        "id": "kxKAhEYHNZe-"
      },
      "outputs": [],
      "source": [
        "# tr = X_train[2, :, :]\n",
        "\n",
        "# plt.imshow(tr)\n",
        "# plt.show()\n",
        "# tr = tr.unsqueeze(0).unsqueeze(0).float()\n",
        "# pred = lenet5.forward(tr)\n",
        "# pred.argmax(dim=1)"
      ]
    },
    {
      "cell_type": "code",
      "execution_count": 83,
      "metadata": {
        "id": "xhsw9soDODel"
      },
      "outputs": [],
      "source": [
        "class LeNet5(torch.nn.Module):\n",
        "    def __init__(self):\n",
        "        super(LeNet5, self).__init__()\n",
        "\n",
        "        self.conv1 = torch.nn.Conv2d(\n",
        "            in_channels=1, out_channels=6, kernel_size=5, padding=2)\n",
        "        self.act1  = torch.nn.Tanh()\n",
        "        self.pool1 = torch.nn.AvgPool2d(kernel_size=2, stride=2)\n",
        "\n",
        "        self.conv2 = torch.nn.Conv2d(\n",
        "            in_channels=6, out_channels=16, kernel_size=5, padding=0)\n",
        "        self.act2  = torch.nn.Tanh()\n",
        "        self.pool2 = torch.nn.AvgPool2d(kernel_size=2, stride=2)\n",
        "\n",
        "        self.fc1   = torch.nn.Linear(5 * 5 * 16, 120)\n",
        "        self.act3  = torch.nn.Tanh()\n",
        "\n",
        "        self.fc2   = torch.nn.Linear(120, 84)\n",
        "        self.act4  = torch.nn.Tanh()\n",
        "\n",
        "        self.fc3   = torch.nn.Linear(84, 10)\n",
        "\n",
        "    def forward(self, x):\n",
        "\n",
        "        x = self.conv1(x)\n",
        "        x = self.act1(x)\n",
        "        x = self.pool1(x)\n",
        "\n",
        "        x = self.conv2(x)\n",
        "        x = self.act2(x)\n",
        "        x = self.pool2(x)\n",
        "\n",
        "        x = x.view(x.size(0), x.size(1) * x.size(2) * x.size(3))\n",
        "\n",
        "        x = self.fc1(x)\n",
        "        x = self.act3(x)\n",
        "        x = self.fc2(x)\n",
        "        x = self.act4(x)\n",
        "        x = self.fc3(x)\n",
        "\n",
        "        return x\n",
        "\n",
        "lenet5 = LeNet5()"
      ]
    },
    {
      "cell_type": "code",
      "execution_count": 84,
      "metadata": {
        "id": "qT-PsO7VNZfB"
      },
      "outputs": [],
      "source": [
        "#device = torch.device('cuda:0' if torch.cuda.is_available() else 'cpu')\n",
        "device = torch.device('cpu')\n",
        "lenet5 = lenet5.to(device)"
      ]
    },
    {
      "cell_type": "code",
      "execution_count": 85,
      "metadata": {
        "id": "rkK0kv1VNZfL"
      },
      "outputs": [],
      "source": [
        "loss = torch.nn.CrossEntropyLoss()\n",
        "optimizer = torch.optim.Adam(lenet5.parameters(), lr=1.0e-3)"
      ]
    },
    {
      "cell_type": "code",
      "execution_count": 86,
      "metadata": {
        "colab": {
          "base_uri": "https://localhost:8080/"
        },
        "id": "XfA9gqSdNZfQ",
        "outputId": "69899a3f-6ad8-4917-c8c0-8d64696138c7"
      },
      "outputs": [
        {
          "output_type": "stream",
          "name": "stdout",
          "text": [
            "tensor(0.9769)\n",
            "tensor(0.9836)\n",
            "tensor(0.9840)\n",
            "tensor(0.9878)\n",
            "tensor(0.9870)\n",
            "tensor(0.9883)\n",
            "tensor(0.9867)\n",
            "tensor(0.9887)\n",
            "tensor(0.9880)\n",
            "tensor(0.9892)\n",
            "tensor(0.9886)\n",
            "tensor(0.9897)\n",
            "tensor(0.9882)\n",
            "tensor(0.9878)\n",
            "tensor(0.9893)\n",
            "tensor(0.9894)\n",
            "tensor(0.9875)\n",
            "tensor(0.9897)\n",
            "tensor(0.9869)\n",
            "tensor(0.9899)\n",
            "tensor(0.9895)\n",
            "tensor(0.9866)\n",
            "tensor(0.9883)\n",
            "tensor(0.9889)\n",
            "tensor(0.9881)\n",
            "tensor(0.9891)\n",
            "tensor(0.9873)\n",
            "tensor(0.9885)\n",
            "tensor(0.9894)\n",
            "tensor(0.9889)\n",
            "tensor(0.9886)\n",
            "tensor(0.9886)\n",
            "tensor(0.9880)\n",
            "tensor(0.9890)\n",
            "tensor(0.9902)\n",
            "tensor(0.9893)\n",
            "tensor(0.9887)\n",
            "tensor(0.9900)\n",
            "tensor(0.9901)\n",
            "tensor(0.9901)\n",
            "tensor(0.9896)\n",
            "tensor(0.9889)\n",
            "tensor(0.9854)\n",
            "tensor(0.9880)\n",
            "tensor(0.9893)\n",
            "tensor(0.9905)\n",
            "tensor(0.9890)\n",
            "tensor(0.9882)\n",
            "tensor(0.9901)\n",
            "tensor(0.9899)\n"
          ]
        }
      ],
      "source": [
        "batch_size = 100\n",
        "\n",
        "test_accuracy_history = []\n",
        "test_loss_history = []\n",
        "\n",
        "X_test = X_test.to(device)\n",
        "y_test = y_test.to(device)\n",
        "\n",
        "for epoch in range(50):\n",
        "    order = np.random.permutation(len(X_train))\n",
        "    for start_index in range(0, len(X_train), batch_size):\n",
        "        optimizer.zero_grad()\n",
        "\n",
        "        batch_indexes = order[start_index:start_index+batch_size]\n",
        "\n",
        "        X_batch = X_train[batch_indexes].to(device)\n",
        "        y_batch = y_train[batch_indexes].to(device)\n",
        "\n",
        "        preds = lenet5.forward(X_batch)\n",
        "\n",
        "        loss_value = loss(preds, y_batch)\n",
        "        loss_value.backward()\n",
        "\n",
        "        optimizer.step()\n",
        "\n",
        "    test_preds = lenet5.forward(X_test)\n",
        "    test_loss_history.append(loss(test_preds, y_test).data.cpu())\n",
        "\n",
        "    accuracy = (test_preds.argmax(dim=1) == y_test).float().mean().data.cpu()\n",
        "    test_accuracy_history.append(accuracy)\n",
        "\n",
        "    print(accuracy)"
      ]
    },
    {
      "cell_type": "code",
      "execution_count": 87,
      "metadata": {
        "colab": {
          "base_uri": "https://localhost:8080/",
          "height": 447
        },
        "id": "H4hjogO8NZfS",
        "outputId": "8be86b8b-0584-4257-bf8d-567b12b40810"
      },
      "outputs": [
        {
          "output_type": "execute_result",
          "data": {
            "text/plain": [
              "[<matplotlib.lines.Line2D at 0x7850f1a107f0>]"
            ]
          },
          "metadata": {},
          "execution_count": 87
        },
        {
          "output_type": "display_data",
          "data": {
            "text/plain": [
              "<Figure size 640x480 with 1 Axes>"
            ],
            "image/png": "[encoded data removed]"
          },
          "metadata": {}
        }
      ],
      "source": [
        "plt.plot(test_accuracy_history)"
      ]
    },
    {
      "cell_type": "code",
      "execution_count": 88,
      "metadata": {
        "colab": {
          "base_uri": "https://localhost:8080/"
        },
        "id": "4FDtagQvNZfU",
        "outputId": "3ac8e7d1-b139-47d3-f62a-f8f311f774dd"
      },
      "outputs": [
        {
          "output_type": "stream",
          "name": "stdout",
          "text": [
            "tensor([8])\n",
            "tensor([8])\n",
            "tensor([8])\n",
            "tensor([8])\n",
            "tensor([3])\n",
            "tensor([8])\n",
            "tensor([8])\n",
            "tensor([8])\n",
            "tensor([8])\n",
            "tensor([8])\n"
          ]
        }
      ],
      "source": [
        "for digit in range(0,10):\n",
        "\n",
        "    image_path = '/content/drive/MyDrive/DS data/' + str(digit) + str(digit) + '.png'\n",
        "\n",
        "    img = Image.open(image_path)\n",
        "\n",
        "    transform = transforms.Grayscale()\n",
        "    grey_image = transform(img)\n",
        "    inverted_image = ImageOps.invert(grey_image)\n",
        "\n",
        "    transform = transforms.Compose([transforms.PILToTensor()])\n",
        "    inverted_image = inverted_image.resize((28, 28))\n",
        "    tensor_img = transform(inverted_image)\n",
        "    tensor_img.unsqueeze_(1)\n",
        "    tensor_img = tensor_img.float()\n",
        "    tensor_img = tensor_img.to(device)\n",
        "    #squezeed_img_tensor = tensor_img.squeeze(1)\n",
        "    pred = lenet5.forward(tensor_img)\n",
        "    print(pred.argmax(dim=1))\n",
        "    #print('for ' + str(digit) + ' pred is ' + str(pred.argmax(dim=1)))\n"
      ]
    },
    {
      "cell_type": "code",
      "source": [
        "for digit in range(0,10):\n",
        "\n",
        "    image_path = '/content/drive/MyDrive/DS data/' + str(digit) + str(digit) +'.png'\n",
        "\n",
        "    img = Image.open(image_path)\n",
        "\n",
        "    transform = transforms.Grayscale()\n",
        "    grey_image = transform(img)\n",
        "    enhancer = ImageEnhance.Contrast(grey_image)\n",
        "    grey_image = enhancer.enhance(50)\n",
        "    inverted_image = ImageOps.invert(grey_image)\n",
        "\n",
        "    transform = transforms.Compose([transforms.PILToTensor()])\n",
        "    inverted_image = inverted_image.resize((28, 28))\n",
        "    tensor_img = transform(inverted_image)\n",
        "    tensor_img.unsqueeze_(1)\n",
        "    tensor_img = tensor_img.float()\n",
        "    tensor_img = tensor_img.to(device)\n",
        "    #squezeed_img_tensor = tensor_img.squeeze(1)\n",
        "    pred = lenet5.forward(tensor_img)\n",
        "    print(pred.argmax(dim=1))\n",
        "    #print('for ' + str(digit) + ' pred is ' + str(pred.argmax(dim=1)))"
      ],
      "metadata": {
        "id": "iA8885MPOTNQ",
        "outputId": "b4d00a89-e550-4772-9cee-febd280a8738",
        "colab": {
          "base_uri": "https://localhost:8080/"
        }
      },
      "execution_count": 91,
      "outputs": [
        {
          "output_type": "stream",
          "name": "stdout",
          "text": [
            "tensor([0])\n",
            "tensor([1])\n",
            "tensor([2])\n",
            "tensor([3])\n",
            "tensor([4])\n",
            "tensor([5])\n",
            "tensor([6])\n",
            "tensor([8])\n",
            "tensor([8])\n",
            "tensor([9])\n"
          ]
        }
      ]
    },
    {
      "cell_type": "code",
      "source": [
        "# transform = transforms.Grayscale()\n",
        "# grey_image = transform(img)\n",
        "# enhancer = ImageEnhance.Contrast(grey_image)\n",
        "# im_output = enhancer.enhance(5)\n",
        "# im_output\n",
        "\n",
        "\n",
        "plt.imshow(tensor_img.squeeze(1)[0,:,:])\n",
        "plt.show()"
      ],
      "metadata": {
        "id": "PxCpW8TPOliV"
      },
      "execution_count": null,
      "outputs": []
    },
    {
      "cell_type": "code",
      "execution_count": null,
      "metadata": {
        "id": "vta37dlSNZfZ"
      },
      "outputs": [],
      "source": [
        "tpred = lenet5.forward(X_test)\n",
        "accuracy = (tpred.argmax(dim=1) == y_test).float().mean().data.cpu()\n",
        "accuracy"
      ]
    },
    {
      "cell_type": "code",
      "source": [
        "y_test[6]"
      ],
      "metadata": {
        "id": "RRSohtb4JbfT"
      },
      "execution_count": null,
      "outputs": []
    },
    {
      "cell_type": "code",
      "source": [
        "plt.imshow(X_test.squeeze()[6, :, :])\n",
        "plt.show()"
      ],
      "metadata": {
        "id": "4OlHYEAGJjgR"
      },
      "execution_count": null,
      "outputs": []
    },
    {
      "cell_type": "code",
      "source": [
        "tensor_img.shape"
      ],
      "metadata": {
        "id": "WxMfTqIyJs4E"
      },
      "execution_count": null,
      "outputs": []
    },
    {
      "cell_type": "code",
      "source": [
        "plt.imshow(tensor_img.squeeze())\n",
        "plt.show()"
      ],
      "metadata": {
        "id": "YyziKAfkKaBq"
      },
      "execution_count": null,
      "outputs": []
    }
  ],
  "metadata": {
    "accelerator": "GPU",
    "colab": {
      "name": "Lesson 6 Digits Recognition Convolutional Video.ipynb",
      "provenance": [],
      "include_colab_link": true
    },
    "kernelspec": {
      "display_name": "Python 3",
      "language": "python",
      "name": "python3"
    },
    "language_info": {
      "codemirror_mode": {
        "name": "ipython",
        "version": 3
      },
      "file_extension": ".py",
      "mimetype": "text/x-python",
      "name": "python",
      "nbconvert_exporter": "python",
      "pygments_lexer": "ipython3",
      "version": "3.6.8"
    }
  },
  "nbformat": 4,
  "nbformat_minor": 0
}