{
  "nbformat": 4,
  "nbformat_minor": 0,
  "metadata": {
    "colab": {
      "provenance": [],
      "authorship_tag": "ABX9TyPvqisrV36fL7V2hvZs72T8",
      "include_colab_link": true
    },
    "kernelspec": {
      "name": "python3",
      "display_name": "Python 3"
    },
    "language_info": {
      "name": "python"
    }
  },
  "cells": [
    {
      "cell_type": "markdown",
      "metadata": {
        "id": "view-in-github",
        "colab_type": "text"
      },
      "source": [
        "<a href=\"https://colab.research.google.com/github/IldarAltynbaev/MLSnippetSimpleNeuroNwtwork/blob/TestingColab/FullConnectedNetwork.ipynb\" target=\"_parent\"><img src=\"https://colab.research.google.com/assets/colab-badge.svg\" alt=\"Open In Colab\"/></a>"
      ]
    },
    {
      "cell_type": "code",
      "execution_count": 24,
      "metadata": {
        "id": "v4OEOjTbXfW8"
      },
      "outputs": [],
      "source": [
        "import torch\n",
        "import random\n",
        "import numpy as np\n",
        "import torchvision.datasets\n",
        "import matplotlib.pyplot as plt\n",
        "\n",
        "random.seed(0)\n",
        "torch.manual_seed(0)\n",
        "np.random.seed(0)\n",
        "torch.cuda.manual_seed(0)\n",
        "torch.backends.cudnn.deterministic = True"
      ]
    },
    {
      "cell_type": "code",
      "source": [
        "MNIST_train = torchvision.datasets.MNIST('./', download=True, train=True)\n",
        "MSINT_test = torchvision.datasets.MNIST('./', download=True, train=False)"
      ],
      "metadata": {
        "id": "ceFxRn85YXHv"
      },
      "execution_count": 25,
      "outputs": []
    },
    {
      "cell_type": "code",
      "source": [
        "X_train = MNIST_train.train_data\n",
        "y_train = MNIST_train.train_labels\n",
        "X_test = MSINT_test.test_data\n",
        "y_test = MSINT_test.test_labels"
      ],
      "metadata": {
        "colab": {
          "base_uri": "https://localhost:8080/"
        },
        "id": "nsEEbXIGY0hM",
        "outputId": "64df8e5e-8bcf-4096-f680-90899893fc75"
      },
      "execution_count": 26,
      "outputs": [
        {
          "output_type": "stream",
          "name": "stderr",
          "text": [
            "/usr/local/lib/python3.10/dist-packages/torchvision/datasets/mnist.py:75: UserWarning: train_data has been renamed data\n",
            "  warnings.warn(\"train_data has been renamed data\")\n",
            "/usr/local/lib/python3.10/dist-packages/torchvision/datasets/mnist.py:65: UserWarning: train_labels has been renamed targets\n",
            "  warnings.warn(\"train_labels has been renamed targets\")\n",
            "/usr/local/lib/python3.10/dist-packages/torchvision/datasets/mnist.py:80: UserWarning: test_data has been renamed data\n",
            "  warnings.warn(\"test_data has been renamed data\")\n",
            "/usr/local/lib/python3.10/dist-packages/torchvision/datasets/mnist.py:70: UserWarning: test_labels has been renamed targets\n",
            "  warnings.warn(\"test_labels has been renamed targets\")\n"
          ]
        }
      ]
    },
    {
      "cell_type": "code",
      "source": [
        "X_train = X_train.float()\n",
        "X_test = X_test.float()\n",
        "len(X_train)"
      ],
      "metadata": {
        "colab": {
          "base_uri": "https://localhost:8080/"
        },
        "id": "lk3avR-MZzk_",
        "outputId": "e1769ebc-f629-412e-c355-4e583e1189a6"
      },
      "execution_count": 27,
      "outputs": [
        {
          "output_type": "execute_result",
          "data": {
            "text/plain": [
              "60000"
            ]
          },
          "metadata": {},
          "execution_count": 27
        }
      ]
    },
    {
      "cell_type": "code",
      "source": [
        "# plt.imshow(X_train[0, :, :])\n",
        "# plt.show()\n",
        "# print(y_train[0])"
      ],
      "metadata": {
        "id": "wTefnbRYaBqI"
      },
      "execution_count": 28,
      "outputs": []
    },
    {
      "cell_type": "code",
      "source": [
        "X_train = X_train.reshape([-1, 28 * 28])\n",
        "X_test = X_test.reshape([-1, 28 * 28])"
      ],
      "metadata": {
        "id": "KPa4J_Nfjjsl"
      },
      "execution_count": 29,
      "outputs": []
    },
    {
      "cell_type": "code",
      "source": [
        "class MNISTNet(torch.nn.Module):\n",
        "    def __init__(self, n_hidden_neurons):\n",
        "        super(MNISTNet, self).__init__()\n",
        "        self.fc1 = torch.nn.Linear(28 * 28, n_hidden_neurons)\n",
        "        self.ac1 = torch.nn.Sigmoid()\n",
        "        self.fc2 = torch.nn.Linear(n_hidden_neurons, 10)\n",
        "\n",
        "    def forward(self, x):\n",
        "        x = self.fc1(x)\n",
        "        x = self.ac1(x)\n",
        "        x = self.fc2(x)\n",
        "        return x"
      ],
      "metadata": {
        "id": "9vgq_i_NjmXb"
      },
      "execution_count": 30,
      "outputs": []
    },
    {
      "cell_type": "code",
      "source": [
        "mnist_net = MNISTNet(100)\n",
        "loss = torch.nn.CrossEntropyLoss()\n",
        "optimizer = torch.optim.Adam(mnist_net.parameters(), lr=1.0e-3)"
      ],
      "metadata": {
        "id": "wVX1LodDjny7"
      },
      "execution_count": 31,
      "outputs": []
    },
    {
      "cell_type": "code",
      "source": [
        "batch_size = 100\n",
        "\n",
        "test_accuracy_history = []\n",
        "test_loss_history = []\n",
        "\n",
        "# X_test = X_test.to(device)\n",
        "# y_test = y_test.to(device)\n",
        "\n",
        "for epoch in range(100):\n",
        "    order = np.random.permutation(len(X_train))\n",
        "\n",
        "    for start_index in range(0, len(X_train), batch_size):\n",
        "        optimizer.zero_grad()\n",
        "\n",
        "        batch_indexes = order[start_index:start_index+batch_size]\n",
        "\n",
        "        X_batch = X_train[batch_indexes] #.to(device)\n",
        "        y_batch = y_train[batch_indexes] #.to(device)\n",
        "\n",
        "        preds = mnist_net.forward(X_batch)\n",
        "\n",
        "        loss_value = loss(preds, y_batch)\n",
        "        loss_value.backward()\n",
        "\n",
        "        optimizer.step()\n",
        "\n",
        "    test_preds = mnist_net.forward(X_test)\n",
        "    test_loss_history.append(loss(test_preds, y_test.data).data)\n",
        "\n",
        "    accuracy = (test_preds.argmax(dim=1) == y_test).float().mean()\n",
        "    test_accuracy_history.append(accuracy)\n",
        "    print(accuracy)"
      ],
      "metadata": {
        "colab": {
          "base_uri": "https://localhost:8080/"
        },
        "id": "IVv7K6xvjs0F",
        "outputId": "69ce775b-4c79-4c13-bb97-03393f57b55b"
      },
      "execution_count": 32,
      "outputs": [
        {
          "output_type": "stream",
          "name": "stdout",
          "text": [
            "tensor(0.9091)\n",
            "tensor(0.9176)\n",
            "tensor(0.9197)\n",
            "tensor(0.9212)\n",
            "tensor(0.9271)\n",
            "tensor(0.9299)\n",
            "tensor(0.9263)\n",
            "tensor(0.9299)\n",
            "tensor(0.9324)\n",
            "tensor(0.9330)\n",
            "tensor(0.9296)\n",
            "tensor(0.9330)\n",
            "tensor(0.9311)\n",
            "tensor(0.9371)\n",
            "tensor(0.9405)\n",
            "tensor(0.9424)\n",
            "tensor(0.9365)\n",
            "tensor(0.9340)\n",
            "tensor(0.9370)\n",
            "tensor(0.9396)\n",
            "tensor(0.9370)\n",
            "tensor(0.9325)\n",
            "tensor(0.9378)\n",
            "tensor(0.9418)\n",
            "tensor(0.9404)\n",
            "tensor(0.9400)\n",
            "tensor(0.9427)\n",
            "tensor(0.9439)\n",
            "tensor(0.9411)\n",
            "tensor(0.9479)\n",
            "tensor(0.9429)\n",
            "tensor(0.9477)\n",
            "tensor(0.9463)\n",
            "tensor(0.9495)\n",
            "tensor(0.9416)\n",
            "tensor(0.9413)\n",
            "tensor(0.9446)\n",
            "tensor(0.9452)\n",
            "tensor(0.9485)\n",
            "tensor(0.9469)\n",
            "tensor(0.9446)\n",
            "tensor(0.9475)\n",
            "tensor(0.9438)\n",
            "tensor(0.9439)\n",
            "tensor(0.9408)\n",
            "tensor(0.9451)\n",
            "tensor(0.9449)\n",
            "tensor(0.9473)\n",
            "tensor(0.9442)\n",
            "tensor(0.9460)\n",
            "tensor(0.9466)\n",
            "tensor(0.9498)\n",
            "tensor(0.9464)\n",
            "tensor(0.9496)\n",
            "tensor(0.9484)\n",
            "tensor(0.9487)\n",
            "tensor(0.9484)\n",
            "tensor(0.9481)\n",
            "tensor(0.9517)\n",
            "tensor(0.9490)\n",
            "tensor(0.9516)\n",
            "tensor(0.9514)\n",
            "tensor(0.9561)\n",
            "tensor(0.9520)\n",
            "tensor(0.9506)\n",
            "tensor(0.9506)\n",
            "tensor(0.9505)\n",
            "tensor(0.9516)\n",
            "tensor(0.9510)\n",
            "tensor(0.9499)\n",
            "tensor(0.9527)\n",
            "tensor(0.9509)\n",
            "tensor(0.9498)\n",
            "tensor(0.9553)\n",
            "tensor(0.9539)\n",
            "tensor(0.9498)\n",
            "tensor(0.9537)\n",
            "tensor(0.9531)\n",
            "tensor(0.9513)\n",
            "tensor(0.9564)\n",
            "tensor(0.9555)\n",
            "tensor(0.9536)\n",
            "tensor(0.9552)\n",
            "tensor(0.9555)\n",
            "tensor(0.9540)\n",
            "tensor(0.9537)\n",
            "tensor(0.9553)\n",
            "tensor(0.9525)\n",
            "tensor(0.9547)\n",
            "tensor(0.9571)\n",
            "tensor(0.9514)\n",
            "tensor(0.9543)\n",
            "tensor(0.9535)\n",
            "tensor(0.9576)\n",
            "tensor(0.9552)\n",
            "tensor(0.9539)\n",
            "tensor(0.9564)\n",
            "tensor(0.9557)\n",
            "tensor(0.9574)\n",
            "tensor(0.9564)\n"
          ]
        }
      ]
    },
    {
      "cell_type": "code",
      "source": [
        "plt.plot(test_accuracy_history)\n",
        "plt.plot(test_loss_history);"
      ],
      "metadata": {
        "colab": {
          "base_uri": "https://localhost:8080/",
          "height": 430
        },
        "id": "u9WrWixnju5g",
        "outputId": "78d9f3b2-00c4-436b-9d4d-1bbbbe04f3de"
      },
      "execution_count": 33,
      "outputs": [
        {
          "output_type": "display_data",
          "data": {
            "text/plain": [
              "<Figure size 640x480 with 1 Axes>"
            ],
            "image/png": "[encoded data removed]"
          },
          "metadata": {}
        }
      ]
    },
    {
      "cell_type": "code",
      "source": [
        "\n"
      ],
      "metadata": {
        "id": "gHfQoITBsnqS"
      },
      "execution_count": 33,
      "outputs": []
    },
    {
      "cell_type": "code",
      "source": [],
      "metadata": {
        "id": "XI_RYSQGvGZg"
      },
      "execution_count": 33,
      "outputs": []
    }
  ]
}
