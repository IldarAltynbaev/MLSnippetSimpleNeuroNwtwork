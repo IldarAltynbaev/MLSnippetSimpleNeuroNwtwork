{
  "nbformat": 4,
  "nbformat_minor": 0,
  "metadata": {
    "colab": {
      "provenance": [],
      "mount_file_id": "15iUoHnqnGcibVZBWekOhTLrXqaLbVYGv",
      "authorship_tag": "ABX9TyPZzBv0FOTRkQpvqqfOo5zd",
      "include_colab_link": true
    },
    "kernelspec": {
      "name": "python3",
      "display_name": "Python 3"
    },
    "language_info": {
      "name": "python"
    }
  },
  "cells": [
    {
      "cell_type": "markdown",
      "metadata": {
        "id": "view-in-github",
        "colab_type": "text"
      },
      "source": [
        "<a href=\"https://colab.research.google.com/github/IldarAltynbaev/MLSnippetSimpleNeuroNwtwork/blob/TestingColab/StepikRanForContest.ipynb\" target=\"_parent\"><img src=\"https://colab.research.google.com/assets/colab-badge.svg\" alt=\"Open In Colab\"/></a>"
      ]
    },
    {
      "cell_type": "code",
      "execution_count": 55,
      "metadata": {
        "colab": {
          "base_uri": "https://localhost:8080/"
        },
        "id": "STBoGgVv5Slk",
        "outputId": "dd66a0a9-7e95-4be5-c5e7-76c3cf2dc9fd"
      },
      "outputs": [
        {
          "output_type": "stream",
          "name": "stdout",
          "text": [
            "Drive already mounted at /content/drive; to attempt to forcibly remount, call drive.mount(\"/content/drive\", force_remount=True).\n"
          ]
        }
      ],
      "source": [
        "import pandas as pd\n",
        "import numpy as np\n",
        "from google.colab import drive\n",
        "from datetime import timedelta\n",
        "from sklearn.model_selection import train_test_split\n",
        "from sklearn import tree\n",
        "from sklearn.model_selection import cross_val_score\n",
        "from sklearn.model_selection import GridSearchCV\n",
        "import matplotlib.pyplot as plt\n",
        "from sklearn import metrics\n",
        "from sklearn.ensemble import RandomForestClassifier\n",
        "\n",
        "drive.mount('/content/drive')"
      ]
    },
    {
      "cell_type": "code",
      "source": [
        "#Функции для рассчета агрегаты нужных полей\n",
        "def count_correct(series):\n",
        "    return (series == 'correct').sum()\n",
        "def count_wrong(series):\n",
        "    return (series == 'wrong').sum()\n",
        "def count_viewed(series):\n",
        "    return (series == 'viewed').sum()\n",
        "def count_passed(series):\n",
        "    return (series == 'passed').sum()\n",
        "def count_discovered(series):\n",
        "    return (series == 'discovered').sum()\n",
        "def count_started_attempt(series):\n",
        "    return (series == 'started_attempt').sum()\n"
      ],
      "metadata": {
        "id": "jtRcPFn_BQoX"
      },
      "execution_count": 56,
      "outputs": []
    },
    {
      "cell_type": "code",
      "source": [
        "# Грузим датасет событий\n",
        "events_dataFrame = pd.read_csv('/content/drive/MyDrive/DS data/event_data_train.csv')\n",
        "events_dataFrame['date_time'] = pd.to_datetime(events_dataFrame['timestamp'],unit='s')\n",
        "events_dataFrame.sort_values('date_time');\n",
        "len(events_dataFrame.user_id.unique())"
      ],
      "metadata": {
        "id": "X1CYdf3-BthN",
        "colab": {
          "base_uri": "https://localhost:8080/"
        },
        "outputId": "1ece760c-54ea-4cc4-80f8-462aa94edc6a"
      },
      "execution_count": 57,
      "outputs": [
        {
          "output_type": "execute_result",
          "data": {
            "text/plain": [
              "19234"
            ]
          },
          "metadata": {},
          "execution_count": 57
        }
      ]
    },
    {
      "cell_type": "code",
      "source": [],
      "metadata": {
        "id": "-8pP-EcMfucD"
      },
      "execution_count": 57,
      "outputs": []
    },
    {
      "cell_type": "code",
      "source": [
        "# Вычисляем дату первой активности пользователя\n",
        "aggregated_events = events_dataFrame.groupby(['user_id'])['date_time'].min().reset_index(name='first_date')"
      ],
      "metadata": {
        "id": "1Xxw5QyWL2IC"
      },
      "execution_count": 58,
      "outputs": []
    },
    {
      "cell_type": "code",
      "source": [
        "events_dataFrame = pd.merge(events_dataFrame, aggregated_events, on='user_id',how='left')"
      ],
      "metadata": {
        "id": "_4-7PD2TMBQH"
      },
      "execution_count": 59,
      "outputs": []
    },
    {
      "cell_type": "code",
      "source": [
        "# Получаем данные для определения y_train/y_test класса\n",
        "submission_df = pd.read_csv('/content/drive/MyDrive/DS data/submissions_data_train.csv')\n",
        "submission_df_first2Days = submission_df.copy()\n",
        "submission_df = submission_df.drop(['timestamp'],axis=1)\n",
        "submission_df.drop_duplicates()\n",
        "submission_df_first2Days\n",
        "#submission_df['date_time'] = pd.to_datetime(events_dataFrame['timestamp'],unit='s')\n",
        "#submission_df.sort_values('date_time')"
      ],
      "metadata": {
        "id": "qLW4Tw3_Wo_Z",
        "colab": {
          "base_uri": "https://localhost:8080/",
          "height": 423
        },
        "outputId": "25f81988-2e43-4873-f718-a135c06cd49c"
      },
      "execution_count": 60,
      "outputs": [
        {
          "output_type": "execute_result",
          "data": {
            "text/plain": [
              "        step_id   timestamp submission_status  user_id\n",
              "0         31971  1434349275           correct    15853\n",
              "1         31972  1434348300           correct    15853\n",
              "2         31972  1478852149             wrong    15853\n",
              "3         31972  1478852164           correct    15853\n",
              "4         31976  1434348123             wrong    15853\n",
              "...         ...         ...               ...      ...\n",
              "509099   120745  1501946959             wrong     2615\n",
              "509100   120745  1503059927           correct    13177\n",
              "509101   120745  1506348153             wrong    15253\n",
              "509102   120745  1523035316             wrong     1424\n",
              "509103   120745  1523382825             wrong     9422\n",
              "\n",
              "[509104 rows x 4 columns]"
            ],
            "text/html": [
              "\n",
              "  <div id=\"df-fe795ef3-e92a-4d3c-bf99-a0fae533a335\" class=\"colab-df-container\">\n",
              "    <div>\n",
              "<style scoped>\n",
              "    .dataframe tbody tr th:only-of-type {\n",
              "        vertical-align: middle;\n",
              "    }\n",
              "\n",
              "    .dataframe tbody tr th {\n",
              "        vertical-align: top;\n",
              "    }\n",
              "\n",
              "    .dataframe thead th {\n",
              "        text-align: right;\n",
              "    }\n",
              "</style>\n",
              "<table border=\"1\" class=\"dataframe\">\n",
              "  <thead>\n",
              "    <tr style=\"text-align: right;\">\n",
              "      <th></th>\n",
              "      <th>step_id</th>\n",
              "      <th>timestamp</th>\n",
              "      <th>submission_status</th>\n",
              "      <th>user_id</th>\n",
              "    </tr>\n",
              "  </thead>\n",
              "  <tbody>\n",
              "    <tr>\n",
              "      <th>0</th>\n",
              "      <td>31971</td>\n",
              "      <td>1434349275</td>\n",
              "      <td>correct</td>\n",
              "      <td>15853</td>\n",
              "    </tr>\n",
              "    <tr>\n",
              "      <th>1</th>\n",
              "      <td>31972</td>\n",
              "      <td>1434348300</td>\n",
              "      <td>correct</td>\n",
              "      <td>15853</td>\n",
              "    </tr>\n",
              "    <tr>\n",
              "      <th>2</th>\n",
              "      <td>31972</td>\n",
              "      <td>1478852149</td>\n",
              "      <td>wrong</td>\n",
              "      <td>15853</td>\n",
              "    </tr>\n",
              "    <tr>\n",
              "      <th>3</th>\n",
              "      <td>31972</td>\n",
              "      <td>1478852164</td>\n",
              "      <td>correct</td>\n",
              "      <td>15853</td>\n",
              "    </tr>\n",
              "    <tr>\n",
              "      <th>4</th>\n",
              "      <td>31976</td>\n",
              "      <td>1434348123</td>\n",
              "      <td>wrong</td>\n",
              "      <td>15853</td>\n",
              "    </tr>\n",
              "    <tr>\n",
              "      <th>...</th>\n",
              "      <td>...</td>\n",
              "      <td>...</td>\n",
              "      <td>...</td>\n",
              "      <td>...</td>\n",
              "    </tr>\n",
              "    <tr>\n",
              "      <th>509099</th>\n",
              "      <td>120745</td>\n",
              "      <td>1501946959</td>\n",
              "      <td>wrong</td>\n",
              "      <td>2615</td>\n",
              "    </tr>\n",
              "    <tr>\n",
              "      <th>509100</th>\n",
              "      <td>120745</td>\n",
              "      <td>1503059927</td>\n",
              "      <td>correct</td>\n",
              "      <td>13177</td>\n",
              "    </tr>\n",
              "    <tr>\n",
              "      <th>509101</th>\n",
              "      <td>120745</td>\n",
              "      <td>1506348153</td>\n",
              "      <td>wrong</td>\n",
              "      <td>15253</td>\n",
              "    </tr>\n",
              "    <tr>\n",
              "      <th>509102</th>\n",
              "      <td>120745</td>\n",
              "      <td>1523035316</td>\n",
              "      <td>wrong</td>\n",
              "      <td>1424</td>\n",
              "    </tr>\n",
              "    <tr>\n",
              "      <th>509103</th>\n",
              "      <td>120745</td>\n",
              "      <td>1523382825</td>\n",
              "      <td>wrong</td>\n",
              "      <td>9422</td>\n",
              "    </tr>\n",
              "  </tbody>\n",
              "</table>\n",
              "<p>509104 rows × 4 columns</p>\n",
              "</div>\n",
              "    <div class=\"colab-df-buttons\">\n",
              "\n",
              "  <div class=\"colab-df-container\">\n",
              "    <button class=\"colab-df-convert\" onclick=\"convertToInteractive('df-fe795ef3-e92a-4d3c-bf99-a0fae533a335')\"\n",
              "            title=\"Convert this dataframe to an interactive table.\"\n",
              "            style=\"display:none;\">\n",
              "\n",
              "  <svg xmlns=\"http://www.w3.org/2000/svg\" height=\"24px\" viewBox=\"0 -960 960 960\">\n",
              "    <path d=\"M120-120v-720h720v720H120Zm60-500h600v-160H180v160Zm220 220h160v-160H400v160Zm0 220h160v-160H400v160ZM180-400h160v-160H180v160Zm440 0h160v-160H620v160ZM180-180h160v-160H180v160Zm440 0h160v-160H620v160Z\"/>\n",
              "  </svg>\n",
              "    </button>\n",
              "\n",
              "  <style>\n",
              "    .colab-df-container {\n",
              "      display:flex;\n",
              "      gap: 12px;\n",
              "    }\n",
              "\n",
              "    .colab-df-convert {\n",
              "      background-color: #E8F0FE;\n",
              "      border: none;\n",
              "      border-radius: 50%;\n",
              "      cursor: pointer;\n",
              "      display: none;\n",
              "      fill: #1967D2;\n",
              "      height: 32px;\n",
              "      padding: 0 0 0 0;\n",
              "      width: 32px;\n",
              "    }\n",
              "\n",
              "    .colab-df-convert:hover {\n",
              "      background-color: #E2EBFA;\n",
              "      box-shadow: 0px 1px 2px rgba(60, 64, 67, 0.3), 0px 1px 3px 1px rgba(60, 64, 67, 0.15);\n",
              "      fill: #174EA6;\n",
              "    }\n",
              "\n",
              "    .colab-df-buttons div {\n",
              "      margin-bottom: 4px;\n",
              "    }\n",
              "\n",
              "    [theme=dark] .colab-df-convert {\n",
              "      background-color: #3B4455;\n",
              "      fill: #D2E3FC;\n",
              "    }\n",
              "\n",
              "    [theme=dark] .colab-df-convert:hover {\n",
              "      background-color: #434B5C;\n",
              "      box-shadow: 0px 1px 3px 1px rgba(0, 0, 0, 0.15);\n",
              "      filter: drop-shadow(0px 1px 2px rgba(0, 0, 0, 0.3));\n",
              "      fill: #FFFFFF;\n",
              "    }\n",
              "  </style>\n",
              "\n",
              "    <script>\n",
              "      const buttonEl =\n",
              "        document.querySelector('#df-fe795ef3-e92a-4d3c-bf99-a0fae533a335 button.colab-df-convert');\n",
              "      buttonEl.style.display =\n",
              "        google.colab.kernel.accessAllowed ? 'block' : 'none';\n",
              "\n",
              "      async function convertToInteractive(key) {\n",
              "        const element = document.querySelector('#df-fe795ef3-e92a-4d3c-bf99-a0fae533a335');\n",
              "        const dataTable =\n",
              "          await google.colab.kernel.invokeFunction('convertToInteractive',\n",
              "                                                    [key], {});\n",
              "        if (!dataTable) return;\n",
              "\n",
              "        const docLinkHtml = 'Like what you see? Visit the ' +\n",
              "          '<a target=\"_blank\" href=https://colab.research.google.com/notebooks/data_table.ipynb>data table notebook</a>'\n",
              "          + ' to learn more about interactive tables.';\n",
              "        element.innerHTML = '';\n",
              "        dataTable['output_type'] = 'display_data';\n",
              "        await google.colab.output.renderOutput(dataTable, element);\n",
              "        const docLink = document.createElement('div');\n",
              "        docLink.innerHTML = docLinkHtml;\n",
              "        element.appendChild(docLink);\n",
              "      }\n",
              "    </script>\n",
              "  </div>\n",
              "\n",
              "\n",
              "<div id=\"df-3238a0be-1244-4ef7-96bc-ff1ab5df6ae5\">\n",
              "  <button class=\"colab-df-quickchart\" onclick=\"quickchart('df-3238a0be-1244-4ef7-96bc-ff1ab5df6ae5')\"\n",
              "            title=\"Suggest charts\"\n",
              "            style=\"display:none;\">\n",
              "\n",
              "<svg xmlns=\"http://www.w3.org/2000/svg\" height=\"24px\"viewBox=\"0 0 24 24\"\n",
              "     width=\"24px\">\n",
              "    <g>\n",
              "        <path d=\"M19 3H5c-1.1 0-2 .9-2 2v14c0 1.1.9 2 2 2h14c1.1 0 2-.9 2-2V5c0-1.1-.9-2-2-2zM9 17H7v-7h2v7zm4 0h-2V7h2v10zm4 0h-2v-4h2v4z\"/>\n",
              "    </g>\n",
              "</svg>\n",
              "  </button>\n",
              "\n",
              "<style>\n",
              "  .colab-df-quickchart {\n",
              "      --bg-color: #E8F0FE;\n",
              "      --fill-color: #1967D2;\n",
              "      --hover-bg-color: #E2EBFA;\n",
              "      --hover-fill-color: #174EA6;\n",
              "      --disabled-fill-color: #AAA;\n",
              "      --disabled-bg-color: #DDD;\n",
              "  }\n",
              "\n",
              "  [theme=dark] .colab-df-quickchart {\n",
              "      --bg-color: #3B4455;\n",
              "      --fill-color: #D2E3FC;\n",
              "      --hover-bg-color: #434B5C;\n",
              "      --hover-fill-color: #FFFFFF;\n",
              "      --disabled-bg-color: #3B4455;\n",
              "      --disabled-fill-color: #666;\n",
              "  }\n",
              "\n",
              "  .colab-df-quickchart {\n",
              "    background-color: var(--bg-color);\n",
              "    border: none;\n",
              "    border-radius: 50%;\n",
              "    cursor: pointer;\n",
              "    display: none;\n",
              "    fill: var(--fill-color);\n",
              "    height: 32px;\n",
              "    padding: 0;\n",
              "    width: 32px;\n",
              "  }\n",
              "\n",
              "  .colab-df-quickchart:hover {\n",
              "    background-color: var(--hover-bg-color);\n",
              "    box-shadow: 0 1px 2px rgba(60, 64, 67, 0.3), 0 1px 3px 1px rgba(60, 64, 67, 0.15);\n",
              "    fill: var(--button-hover-fill-color);\n",
              "  }\n",
              "\n",
              "  .colab-df-quickchart-complete:disabled,\n",
              "  .colab-df-quickchart-complete:disabled:hover {\n",
              "    background-color: var(--disabled-bg-color);\n",
              "    fill: var(--disabled-fill-color);\n",
              "    box-shadow: none;\n",
              "  }\n",
              "\n",
              "  .colab-df-spinner {\n",
              "    border: 2px solid var(--fill-color);\n",
              "    border-color: transparent;\n",
              "    border-bottom-color: var(--fill-color);\n",
              "    animation:\n",
              "      spin 1s steps(1) infinite;\n",
              "  }\n",
              "\n",
              "  @keyframes spin {\n",
              "    0% {\n",
              "      border-color: transparent;\n",
              "      border-bottom-color: var(--fill-color);\n",
              "      border-left-color: var(--fill-color);\n",
              "    }\n",
              "    20% {\n",
              "      border-color: transparent;\n",
              "      border-left-color: var(--fill-color);\n",
              "      border-top-color: var(--fill-color);\n",
              "    }\n",
              "    30% {\n",
              "      border-color: transparent;\n",
              "      border-left-color: var(--fill-color);\n",
              "      border-top-color: var(--fill-color);\n",
              "      border-right-color: var(--fill-color);\n",
              "    }\n",
              "    40% {\n",
              "      border-color: transparent;\n",
              "      border-right-color: var(--fill-color);\n",
              "      border-top-color: var(--fill-color);\n",
              "    }\n",
              "    60% {\n",
              "      border-color: transparent;\n",
              "      border-right-color: var(--fill-color);\n",
              "    }\n",
              "    80% {\n",
              "      border-color: transparent;\n",
              "      border-right-color: var(--fill-color);\n",
              "      border-bottom-color: var(--fill-color);\n",
              "    }\n",
              "    90% {\n",
              "      border-color: transparent;\n",
              "      border-bottom-color: var(--fill-color);\n",
              "    }\n",
              "  }\n",
              "</style>\n",
              "\n",
              "  <script>\n",
              "    async function quickchart(key) {\n",
              "      const quickchartButtonEl =\n",
              "        document.querySelector('#' + key + ' button');\n",
              "      quickchartButtonEl.disabled = true;  // To prevent multiple clicks.\n",
              "      quickchartButtonEl.classList.add('colab-df-spinner');\n",
              "      try {\n",
              "        const charts = await google.colab.kernel.invokeFunction(\n",
              "            'suggestCharts', [key], {});\n",
              "      } catch (error) {\n",
              "        console.error('Error during call to suggestCharts:', error);\n",
              "      }\n",
              "      quickchartButtonEl.classList.remove('colab-df-spinner');\n",
              "      quickchartButtonEl.classList.add('colab-df-quickchart-complete');\n",
              "    }\n",
              "    (() => {\n",
              "      let quickchartButtonEl =\n",
              "        document.querySelector('#df-3238a0be-1244-4ef7-96bc-ff1ab5df6ae5 button');\n",
              "      quickchartButtonEl.style.display =\n",
              "        google.colab.kernel.accessAllowed ? 'block' : 'none';\n",
              "    })();\n",
              "  </script>\n",
              "</div>\n",
              "    </div>\n",
              "  </div>\n"
            ]
          },
          "metadata": {},
          "execution_count": 60
        }
      ]
    },
    {
      "cell_type": "code",
      "source": [
        "submission_count_correct = submission_df.groupby([\"user_id\"])['submission_status'].apply(count_correct).reset_index(name='count_correct')"
      ],
      "metadata": {
        "id": "-CSyEtuI0SFC"
      },
      "execution_count": 61,
      "outputs": []
    },
    {
      "cell_type": "code",
      "source": [
        "events_dataFrame_with_correct = pd.merge(events_dataFrame, submission_count_correct, on='user_id',how='left')\n",
        "events_dataFrame_with_correct = events_dataFrame_with_correct.fillna(0)\n",
        "events_dataFrame_with_correct = events_dataFrame_with_correct[events_dataFrame_with_correct.date_time <= events_dataFrame_with_correct.first_date + timedelta(days=2)]\n",
        "events_dataFrame_with_correct['course_passed'] = events_dataFrame_with_correct['count_correct'] > 40\n",
        "events_dataFrame_with_correct = events_dataFrame_with_correct.drop('count_correct', axis=1)\n",
        "events_dataFrame_with_correct"
      ],
      "metadata": {
        "colab": {
          "base_uri": "https://localhost:8080/",
          "height": 423
        },
        "id": "mr7JiDte7Dwt",
        "outputId": "9100d634-443d-426f-c9d6-478199e5b83b"
      },
      "execution_count": 62,
      "outputs": [
        {
          "output_type": "execute_result",
          "data": {
            "text/plain": [
              "         step_id   timestamp      action  user_id           date_time  \\\n",
              "0          32815  1434340848      viewed    17632 2015-06-15 04:00:48   \n",
              "1          32815  1434340848      passed    17632 2015-06-15 04:00:48   \n",
              "2          32815  1434340848  discovered    17632 2015-06-15 04:00:48   \n",
              "3          32811  1434340895  discovered    17632 2015-06-15 04:01:35   \n",
              "4          32811  1434340895      viewed    17632 2015-06-15 04:01:35   \n",
              "...          ...         ...         ...      ...                 ...   \n",
              "3480530    32953  1526766998      viewed    24555 2018-05-19 21:56:38   \n",
              "3480531    32953  1526766998  discovered    24555 2018-05-19 21:56:38   \n",
              "3480699    32815  1526772750      viewed     5198 2018-05-19 23:32:30   \n",
              "3480700    32815  1526772750  discovered     5198 2018-05-19 23:32:30   \n",
              "3480701    32815  1526772750      passed     5198 2018-05-19 23:32:30   \n",
              "\n",
              "                 first_date  course_passed  \n",
              "0       2015-06-15 04:00:48          False  \n",
              "1       2015-06-15 04:00:48          False  \n",
              "2       2015-06-15 04:00:48          False  \n",
              "3       2015-06-15 04:00:48          False  \n",
              "4       2015-06-15 04:00:48          False  \n",
              "...                     ...            ...  \n",
              "3480530 2018-05-19 11:37:47          False  \n",
              "3480531 2018-05-19 11:37:47          False  \n",
              "3480699 2018-05-19 23:32:30          False  \n",
              "3480700 2018-05-19 23:32:30          False  \n",
              "3480701 2018-05-19 23:32:30          False  \n",
              "\n",
              "[906203 rows x 7 columns]"
            ],
            "text/html": [
              "\n",
              "  <div id=\"df-8d838303-c738-4a6b-bd28-c31ef70d03d9\" class=\"colab-df-container\">\n",
              "    <div>\n",
              "<style scoped>\n",
              "    .dataframe tbody tr th:only-of-type {\n",
              "        vertical-align: middle;\n",
              "    }\n",
              "\n",
              "    .dataframe tbody tr th {\n",
              "        vertical-align: top;\n",
              "    }\n",
              "\n",
              "    .dataframe thead th {\n",
              "        text-align: right;\n",
              "    }\n",
              "</style>\n",
              "<table border=\"1\" class=\"dataframe\">\n",
              "  <thead>\n",
              "    <tr style=\"text-align: right;\">\n",
              "      <th></th>\n",
              "      <th>step_id</th>\n",
              "      <th>timestamp</th>\n",
              "      <th>action</th>\n",
              "      <th>user_id</th>\n",
              "      <th>date_time</th>\n",
              "      <th>first_date</th>\n",
              "      <th>course_passed</th>\n",
              "    </tr>\n",
              "  </thead>\n",
              "  <tbody>\n",
              "    <tr>\n",
              "      <th>0</th>\n",
              "      <td>32815</td>\n",
              "      <td>1434340848</td>\n",
              "      <td>viewed</td>\n",
              "      <td>17632</td>\n",
              "      <td>2015-06-15 04:00:48</td>\n",
              "      <td>2015-06-15 04:00:48</td>\n",
              "      <td>False</td>\n",
              "    </tr>\n",
              "    <tr>\n",
              "      <th>1</th>\n",
              "      <td>32815</td>\n",
              "      <td>1434340848</td>\n",
              "      <td>passed</td>\n",
              "      <td>17632</td>\n",
              "      <td>2015-06-15 04:00:48</td>\n",
              "      <td>2015-06-15 04:00:48</td>\n",
              "      <td>False</td>\n",
              "    </tr>\n",
              "    <tr>\n",
              "      <th>2</th>\n",
              "      <td>32815</td>\n",
              "      <td>1434340848</td>\n",
              "      <td>discovered</td>\n",
              "      <td>17632</td>\n",
              "      <td>2015-06-15 04:00:48</td>\n",
              "      <td>2015-06-15 04:00:48</td>\n",
              "      <td>False</td>\n",
              "    </tr>\n",
              "    <tr>\n",
              "      <th>3</th>\n",
              "      <td>32811</td>\n",
              "      <td>1434340895</td>\n",
              "      <td>discovered</td>\n",
              "      <td>17632</td>\n",
              "      <td>2015-06-15 04:01:35</td>\n",
              "      <td>2015-06-15 04:00:48</td>\n",
              "      <td>False</td>\n",
              "    </tr>\n",
              "    <tr>\n",
              "      <th>4</th>\n",
              "      <td>32811</td>\n",
              "      <td>1434340895</td>\n",
              "      <td>viewed</td>\n",
              "      <td>17632</td>\n",
              "      <td>2015-06-15 04:01:35</td>\n",
              "      <td>2015-06-15 04:00:48</td>\n",
              "      <td>False</td>\n",
              "    </tr>\n",
              "    <tr>\n",
              "      <th>...</th>\n",
              "      <td>...</td>\n",
              "      <td>...</td>\n",
              "      <td>...</td>\n",
              "      <td>...</td>\n",
              "      <td>...</td>\n",
              "      <td>...</td>\n",
              "      <td>...</td>\n",
              "    </tr>\n",
              "    <tr>\n",
              "      <th>3480530</th>\n",
              "      <td>32953</td>\n",
              "      <td>1526766998</td>\n",
              "      <td>viewed</td>\n",
              "      <td>24555</td>\n",
              "      <td>2018-05-19 21:56:38</td>\n",
              "      <td>2018-05-19 11:37:47</td>\n",
              "      <td>False</td>\n",
              "    </tr>\n",
              "    <tr>\n",
              "      <th>3480531</th>\n",
              "      <td>32953</td>\n",
              "      <td>1526766998</td>\n",
              "      <td>discovered</td>\n",
              "      <td>24555</td>\n",
              "      <td>2018-05-19 21:56:38</td>\n",
              "      <td>2018-05-19 11:37:47</td>\n",
              "      <td>False</td>\n",
              "    </tr>\n",
              "    <tr>\n",
              "      <th>3480699</th>\n",
              "      <td>32815</td>\n",
              "      <td>1526772750</td>\n",
              "      <td>viewed</td>\n",
              "      <td>5198</td>\n",
              "      <td>2018-05-19 23:32:30</td>\n",
              "      <td>2018-05-19 23:32:30</td>\n",
              "      <td>False</td>\n",
              "    </tr>\n",
              "    <tr>\n",
              "      <th>3480700</th>\n",
              "      <td>32815</td>\n",
              "      <td>1526772750</td>\n",
              "      <td>discovered</td>\n",
              "      <td>5198</td>\n",
              "      <td>2018-05-19 23:32:30</td>\n",
              "      <td>2018-05-19 23:32:30</td>\n",
              "      <td>False</td>\n",
              "    </tr>\n",
              "    <tr>\n",
              "      <th>3480701</th>\n",
              "      <td>32815</td>\n",
              "      <td>1526772750</td>\n",
              "      <td>passed</td>\n",
              "      <td>5198</td>\n",
              "      <td>2018-05-19 23:32:30</td>\n",
              "      <td>2018-05-19 23:32:30</td>\n",
              "      <td>False</td>\n",
              "    </tr>\n",
              "  </tbody>\n",
              "</table>\n",
              "<p>906203 rows × 7 columns</p>\n",
              "</div>\n",
              "    <div class=\"colab-df-buttons\">\n",
              "\n",
              "  <div class=\"colab-df-container\">\n",
              "    <button class=\"colab-df-convert\" onclick=\"convertToInteractive('df-8d838303-c738-4a6b-bd28-c31ef70d03d9')\"\n",
              "            title=\"Convert this dataframe to an interactive table.\"\n",
              "            style=\"display:none;\">\n",
              "\n",
              "  <svg xmlns=\"http://www.w3.org/2000/svg\" height=\"24px\" viewBox=\"0 -960 960 960\">\n",
              "    <path d=\"M120-120v-720h720v720H120Zm60-500h600v-160H180v160Zm220 220h160v-160H400v160Zm0 220h160v-160H400v160ZM180-400h160v-160H180v160Zm440 0h160v-160H620v160ZM180-180h160v-160H180v160Zm440 0h160v-160H620v160Z\"/>\n",
              "  </svg>\n",
              "    </button>\n",
              "\n",
              "  <style>\n",
              "    .colab-df-container {\n",
              "      display:flex;\n",
              "      gap: 12px;\n",
              "    }\n",
              "\n",
              "    .colab-df-convert {\n",
              "      background-color: #E8F0FE;\n",
              "      border: none;\n",
              "      border-radius: 50%;\n",
              "      cursor: pointer;\n",
              "      display: none;\n",
              "      fill: #1967D2;\n",
              "      height: 32px;\n",
              "      padding: 0 0 0 0;\n",
              "      width: 32px;\n",
              "    }\n",
              "\n",
              "    .colab-df-convert:hover {\n",
              "      background-color: #E2EBFA;\n",
              "      box-shadow: 0px 1px 2px rgba(60, 64, 67, 0.3), 0px 1px 3px 1px rgba(60, 64, 67, 0.15);\n",
              "      fill: #174EA6;\n",
              "    }\n",
              "\n",
              "    .colab-df-buttons div {\n",
              "      margin-bottom: 4px;\n",
              "    }\n",
              "\n",
              "    [theme=dark] .colab-df-convert {\n",
              "      background-color: #3B4455;\n",
              "      fill: #D2E3FC;\n",
              "    }\n",
              "\n",
              "    [theme=dark] .colab-df-convert:hover {\n",
              "      background-color: #434B5C;\n",
              "      box-shadow: 0px 1px 3px 1px rgba(0, 0, 0, 0.15);\n",
              "      filter: drop-shadow(0px 1px 2px rgba(0, 0, 0, 0.3));\n",
              "      fill: #FFFFFF;\n",
              "    }\n",
              "  </style>\n",
              "\n",
              "    <script>\n",
              "      const buttonEl =\n",
              "        document.querySelector('#df-8d838303-c738-4a6b-bd28-c31ef70d03d9 button.colab-df-convert');\n",
              "      buttonEl.style.display =\n",
              "        google.colab.kernel.accessAllowed ? 'block' : 'none';\n",
              "\n",
              "      async function convertToInteractive(key) {\n",
              "        const element = document.querySelector('#df-8d838303-c738-4a6b-bd28-c31ef70d03d9');\n",
              "        const dataTable =\n",
              "          await google.colab.kernel.invokeFunction('convertToInteractive',\n",
              "                                                    [key], {});\n",
              "        if (!dataTable) return;\n",
              "\n",
              "        const docLinkHtml = 'Like what you see? Visit the ' +\n",
              "          '<a target=\"_blank\" href=https://colab.research.google.com/notebooks/data_table.ipynb>data table notebook</a>'\n",
              "          + ' to learn more about interactive tables.';\n",
              "        element.innerHTML = '';\n",
              "        dataTable['output_type'] = 'display_data';\n",
              "        await google.colab.output.renderOutput(dataTable, element);\n",
              "        const docLink = document.createElement('div');\n",
              "        docLink.innerHTML = docLinkHtml;\n",
              "        element.appendChild(docLink);\n",
              "      }\n",
              "    </script>\n",
              "  </div>\n",
              "\n",
              "\n",
              "<div id=\"df-f5341965-2e94-41df-8892-25b54c45c19a\">\n",
              "  <button class=\"colab-df-quickchart\" onclick=\"quickchart('df-f5341965-2e94-41df-8892-25b54c45c19a')\"\n",
              "            title=\"Suggest charts\"\n",
              "            style=\"display:none;\">\n",
              "\n",
              "<svg xmlns=\"http://www.w3.org/2000/svg\" height=\"24px\"viewBox=\"0 0 24 24\"\n",
              "     width=\"24px\">\n",
              "    <g>\n",
              "        <path d=\"M19 3H5c-1.1 0-2 .9-2 2v14c0 1.1.9 2 2 2h14c1.1 0 2-.9 2-2V5c0-1.1-.9-2-2-2zM9 17H7v-7h2v7zm4 0h-2V7h2v10zm4 0h-2v-4h2v4z\"/>\n",
              "    </g>\n",
              "</svg>\n",
              "  </button>\n",
              "\n",
              "<style>\n",
              "  .colab-df-quickchart {\n",
              "      --bg-color: #E8F0FE;\n",
              "      --fill-color: #1967D2;\n",
              "      --hover-bg-color: #E2EBFA;\n",
              "      --hover-fill-color: #174EA6;\n",
              "      --disabled-fill-color: #AAA;\n",
              "      --disabled-bg-color: #DDD;\n",
              "  }\n",
              "\n",
              "  [theme=dark] .colab-df-quickchart {\n",
              "      --bg-color: #3B4455;\n",
              "      --fill-color: #D2E3FC;\n",
              "      --hover-bg-color: #434B5C;\n",
              "      --hover-fill-color: #FFFFFF;\n",
              "      --disabled-bg-color: #3B4455;\n",
              "      --disabled-fill-color: #666;\n",
              "  }\n",
              "\n",
              "  .colab-df-quickchart {\n",
              "    background-color: var(--bg-color);\n",
              "    border: none;\n",
              "    border-radius: 50%;\n",
              "    cursor: pointer;\n",
              "    display: none;\n",
              "    fill: var(--fill-color);\n",
              "    height: 32px;\n",
              "    padding: 0;\n",
              "    width: 32px;\n",
              "  }\n",
              "\n",
              "  .colab-df-quickchart:hover {\n",
              "    background-color: var(--hover-bg-color);\n",
              "    box-shadow: 0 1px 2px rgba(60, 64, 67, 0.3), 0 1px 3px 1px rgba(60, 64, 67, 0.15);\n",
              "    fill: var(--button-hover-fill-color);\n",
              "  }\n",
              "\n",
              "  .colab-df-quickchart-complete:disabled,\n",
              "  .colab-df-quickchart-complete:disabled:hover {\n",
              "    background-color: var(--disabled-bg-color);\n",
              "    fill: var(--disabled-fill-color);\n",
              "    box-shadow: none;\n",
              "  }\n",
              "\n",
              "  .colab-df-spinner {\n",
              "    border: 2px solid var(--fill-color);\n",
              "    border-color: transparent;\n",
              "    border-bottom-color: var(--fill-color);\n",
              "    animation:\n",
              "      spin 1s steps(1) infinite;\n",
              "  }\n",
              "\n",
              "  @keyframes spin {\n",
              "    0% {\n",
              "      border-color: transparent;\n",
              "      border-bottom-color: var(--fill-color);\n",
              "      border-left-color: var(--fill-color);\n",
              "    }\n",
              "    20% {\n",
              "      border-color: transparent;\n",
              "      border-left-color: var(--fill-color);\n",
              "      border-top-color: var(--fill-color);\n",
              "    }\n",
              "    30% {\n",
              "      border-color: transparent;\n",
              "      border-left-color: var(--fill-color);\n",
              "      border-top-color: var(--fill-color);\n",
              "      border-right-color: var(--fill-color);\n",
              "    }\n",
              "    40% {\n",
              "      border-color: transparent;\n",
              "      border-right-color: var(--fill-color);\n",
              "      border-top-color: var(--fill-color);\n",
              "    }\n",
              "    60% {\n",
              "      border-color: transparent;\n",
              "      border-right-color: var(--fill-color);\n",
              "    }\n",
              "    80% {\n",
              "      border-color: transparent;\n",
              "      border-right-color: var(--fill-color);\n",
              "      border-bottom-color: var(--fill-color);\n",
              "    }\n",
              "    90% {\n",
              "      border-color: transparent;\n",
              "      border-bottom-color: var(--fill-color);\n",
              "    }\n",
              "  }\n",
              "</style>\n",
              "\n",
              "  <script>\n",
              "    async function quickchart(key) {\n",
              "      const quickchartButtonEl =\n",
              "        document.querySelector('#' + key + ' button');\n",
              "      quickchartButtonEl.disabled = true;  // To prevent multiple clicks.\n",
              "      quickchartButtonEl.classList.add('colab-df-spinner');\n",
              "      try {\n",
              "        const charts = await google.colab.kernel.invokeFunction(\n",
              "            'suggestCharts', [key], {});\n",
              "      } catch (error) {\n",
              "        console.error('Error during call to suggestCharts:', error);\n",
              "      }\n",
              "      quickchartButtonEl.classList.remove('colab-df-spinner');\n",
              "      quickchartButtonEl.classList.add('colab-df-quickchart-complete');\n",
              "    }\n",
              "    (() => {\n",
              "      let quickchartButtonEl =\n",
              "        document.querySelector('#df-f5341965-2e94-41df-8892-25b54c45c19a button');\n",
              "      quickchartButtonEl.style.display =\n",
              "        google.colab.kernel.accessAllowed ? 'block' : 'none';\n",
              "    })();\n",
              "  </script>\n",
              "</div>\n",
              "    </div>\n",
              "  </div>\n"
            ]
          },
          "metadata": {},
          "execution_count": 62
        }
      ]
    },
    {
      "cell_type": "code",
      "source": [
        "# Теперь посчитаем активность сабмитов за первые 2 дня активности пользователя, для этого сабмит дата сет придется переинициализи\n",
        "submission_df_first2Days['date_time'] = pd.to_datetime(submission_df_first2Days['timestamp'],unit='s')\n",
        "aggregated_submissions = submission_df_first2Days.groupby(['user_id'])['date_time'].min().reset_index(name='first_date')\n",
        "\n",
        "submission_df_first2Days = pd.merge(submission_df_first2Days, aggregated_submissions, on='user_id',how='left')\n",
        "submission_df_first2Days = submission_df_first2Days[submission_df_first2Days.date_time <= submission_df_first2Days.first_date + timedelta(days=2)]\n",
        "submission_df_first2Days = submission_df_first2Days.drop(['date_time', 'first_date'], axis=1)\n",
        "submission_df_first2Days = submission_df_first2Days.drop_duplicates()"
      ],
      "metadata": {
        "id": "GriLfsEF9j16"
      },
      "execution_count": 63,
      "outputs": []
    },
    {
      "cell_type": "code",
      "source": [
        "submission_df_count_wrong_first2Days = submission_df_first2Days.groupby([\"user_id\"])['submission_status'].apply(count_wrong).reset_index(name='count_wrong')\n",
        "submission_df_count_correct_first2Days = submission_df_first2Days.groupby([\"user_id\"])['submission_status'].apply(count_correct).reset_index(name='count_correct')"
      ],
      "metadata": {
        "id": "NjP3umUs-sOz"
      },
      "execution_count": 64,
      "outputs": []
    },
    {
      "cell_type": "code",
      "source": [
        "events_dataFrame_with_correct = pd.merge(events_dataFrame_with_correct, submission_df_count_wrong_first2Days, on='user_id',how='left')\n",
        "events_dataFrame_with_correct = pd.merge(events_dataFrame_with_correct, submission_df_count_correct_first2Days, on='user_id',how='left')\n",
        "events_dataFrame_with_correct = events_dataFrame_with_correct.fillna(0)\n"
      ],
      "metadata": {
        "id": "ClP26mF-Nj1t"
      },
      "execution_count": 65,
      "outputs": []
    },
    {
      "cell_type": "code",
      "source": [
        "action_viewed = events_dataFrame_with_correct.groupby([\"user_id\"])['action'].apply(count_viewed).reset_index(name='count_viewed')\n",
        "action_passed = events_dataFrame_with_correct.groupby([\"user_id\"])['action'].apply(count_passed).reset_index(name='count_passed')\n",
        "action_discovered = events_dataFrame_with_correct.groupby([\"user_id\"])['action'].apply(count_discovered).reset_index(name='count_discovered')\n",
        "action_started_attempt = events_dataFrame_with_correct.groupby([\"user_id\"])['action'].apply(count_started_attempt).reset_index(name='count_started_attempt')\n",
        "\n",
        "events_dataFrame_with_correct = pd.merge(events_dataFrame_with_correct, action_viewed, how='left', on='user_id')\n",
        "events_dataFrame_with_correct = pd.merge(events_dataFrame_with_correct, action_passed, how='left', on='user_id')\n",
        "events_dataFrame_with_correct = pd.merge(events_dataFrame_with_correct, action_discovered, how='left', on='user_id')\n",
        "events_dataFrame_with_correct = pd.merge(events_dataFrame_with_correct, action_started_attempt, how='left', on='user_id')"
      ],
      "metadata": {
        "id": "Fn9DCAwW4-0g"
      },
      "execution_count": 66,
      "outputs": []
    },
    {
      "cell_type": "code",
      "source": [
        "events_dataFrame_with_correct = events_dataFrame_with_correct.drop(['timestamp','action','date_time', 'first_date'],axis=1)"
      ],
      "metadata": {
        "id": "643itvSkfE66"
      },
      "execution_count": 67,
      "outputs": []
    },
    {
      "cell_type": "code",
      "source": [
        "events_dataFrame_with_correct = events_dataFrame_with_correct.fillna(0)\n",
        "events_dataFrame_with_correct = events_dataFrame_with_correct.drop_duplicates()"
      ],
      "metadata": {
        "id": "xZn2SqsNfwNL"
      },
      "execution_count": 68,
      "outputs": []
    },
    {
      "cell_type": "code",
      "source": [
        "set_x = events_dataFrame_with_correct.drop(['course_passed'],axis=1)\n",
        "set_y = events_dataFrame_with_correct[['course_passed', 'user_id']]\n",
        "set_x = set_x.set_index('user_id')\n",
        "set_y = set_y.set_index('user_id')"
      ],
      "metadata": {
        "id": "DgrIKFQAFSmW"
      },
      "execution_count": 69,
      "outputs": []
    },
    {
      "cell_type": "code",
      "source": [
        "X_train, X_test, y_train, y_test = train_test_split(set_x, set_y, train_size = 0.66, random_state=42)"
      ],
      "metadata": {
        "id": "Jk2VUlViS7iA"
      },
      "execution_count": 70,
      "outputs": []
    },
    {
      "cell_type": "code",
      "source": [
        "clf = RandomForestClassifier(criterion='entropy',n_jobs=-1, max_depth= 13, min_samples_split = 40)\n",
        "#param_grid = {'max_depth':range(1,20,5), 'min_samples_split': range(1,50,5),'min_samples_leaf': range(1,50,5), 'n_estimators':range(1,200,10)}\n",
        "param_grid = {'n_estimators':range(1,100,10)}"
      ],
      "metadata": {
        "id": "tfTMc4mSafc1"
      },
      "execution_count": 71,
      "outputs": []
    },
    {
      "cell_type": "code",
      "source": [
        "grid = GridSearchCV(clf,param_grid,cv=5)"
      ],
      "metadata": {
        "id": "0EOLjKAor7u2"
      },
      "execution_count": 72,
      "outputs": []
    },
    {
      "cell_type": "code",
      "source": [
        "grid.fit(X_train, y_train.values.ravel())"
      ],
      "metadata": {
        "id": "KyA1-I_csAyh"
      },
      "execution_count": null,
      "outputs": []
    },
    {
      "cell_type": "code",
      "source": [
        "best_cls = grid.best_estimator_\n",
        "y_pred = grid.predict(X_train)\n",
        "grid.best_params_"
      ],
      "metadata": {
        "colab": {
          "base_uri": "https://localhost:8080/"
        },
        "id": "3jBYdbNQ92mC",
        "outputId": "c7882339-3182-4a81-f30e-c6cb45cc06d0"
      },
      "execution_count": 74,
      "outputs": [
        {
          "output_type": "execute_result",
          "data": {
            "text/plain": [
              "{'n_estimators': 51}"
            ]
          },
          "metadata": {},
          "execution_count": 74
        }
      ]
    },
    {
      "cell_type": "code",
      "source": [
        "metrics.roc_auc_score(y_train, y_pred)"
      ],
      "metadata": {
        "colab": {
          "base_uri": "https://localhost:8080/"
        },
        "id": "1CClf0vMPZA4",
        "outputId": "b2464ee4-2358-475b-e2b5-1abc34d9b5ea"
      },
      "execution_count": 75,
      "outputs": [
        {
          "output_type": "execute_result",
          "data": {
            "text/plain": [
              "0.7740046337654105"
            ]
          },
          "metadata": {},
          "execution_count": 75
        }
      ]
    },
    {
      "cell_type": "code",
      "source": [
        "#fig = plt.figure(figsize=(25,20))\n",
        "#fig = tree.plot_tree(best_cls, feature_names=X_train.columns,class_names=['not_passed', 'passed'], filled=True)\n"
      ],
      "metadata": {
        "id": "yHCyPeYmNT0G"
      },
      "execution_count": 76,
      "outputs": []
    },
    {
      "cell_type": "code",
      "source": [
        "#y_pred = best_cls.predict_proba(X_test)\n",
        "y_pred = best_cls.predict(X_test)"
      ],
      "metadata": {
        "id": "7RdzvzROZhzE"
      },
      "execution_count": 77,
      "outputs": []
    },
    {
      "cell_type": "code",
      "source": [
        "fpr, tpr, thresholds = metrics.roc_curve(y_test, y_pred)\n",
        "plt.plot(fpr,tpr)\n",
        "plt.ylabel('Precision')\n",
        "plt.xlabel('Recall')\n",
        "plt.show()\n",
        ""
      ],
      "metadata": {
        "colab": {
          "base_uri": "https://localhost:8080/",
          "height": 449
        },
        "id": "9xPLjlYXXU2U",
        "outputId": "0b48b741-f8d9-4b18-d95f-923fe27305d1"
      },
      "execution_count": 78,
      "outputs": [
        {
          "output_type": "display_data",
          "data": {
            "text/plain": [
              "<Figure size 640x480 with 1 Axes>"
            ],
            "image/png": "[encoded data removed]"
          },
          "metadata": {}
        }
      ]
    },
    {
      "cell_type": "code",
      "source": [
        "metrics.roc_auc_score(y_test, y_pred)"
      ],
      "metadata": {
        "colab": {
          "base_uri": "https://localhost:8080/"
        },
        "id": "4LHx5CpDdSen",
        "outputId": "6c36e998-ffe3-462a-8e37-c9b6554a264f"
      },
      "execution_count": 79,
      "outputs": [
        {
          "output_type": "execute_result",
          "data": {
            "text/plain": [
              "0.7726213306149601"
            ]
          },
          "metadata": {},
          "execution_count": 79
        }
      ]
    },
    {
      "cell_type": "code",
      "source": [],
      "metadata": {
        "id": "SzG2XkuUduHB"
      },
      "execution_count": 79,
      "outputs": []
    },
    {
      "cell_type": "code",
      "source": [],
      "metadata": {
        "id": "lNR7GZaBd96K"
      },
      "execution_count": 79,
      "outputs": []
    },
    {
      "cell_type": "code",
      "source": [],
      "metadata": {
        "id": "DAo7jg6HgWiW"
      },
      "execution_count": 79,
      "outputs": []
    }
  ]
}