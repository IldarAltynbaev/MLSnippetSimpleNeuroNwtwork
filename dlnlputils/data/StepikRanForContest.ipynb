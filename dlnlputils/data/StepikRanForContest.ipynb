{
  "nbformat": 4,
  "nbformat_minor": 0,
  "metadata": {
    "colab": {
      "provenance": [],
      "mount_file_id": "15iUoHnqnGcibVZBWekOhTLrXqaLbVYGv",
      "authorship_tag": "ABX9TyN9yLsPDYWhGdEPtNDftQuG",
      "include_colab_link": true
    },
    "kernelspec": {
      "name": "python3",
      "display_name": "Python 3"
    },
    "language_info": {
      "name": "python"
    }
  },
  "cells": [
    {
      "cell_type": "markdown",
      "metadata": {
        "id": "view-in-github",
        "colab_type": "text"
      },
      "source": [
        "<a href=\"https://colab.research.google.com/github/IldarAltynbaev/MLSnippetSimpleNeuroNwtwork/blob/TestingColab/StepikRanForContest.ipynb\" target=\"_parent\"><img src=\"https://colab.research.google.com/assets/colab-badge.svg\" alt=\"Open In Colab\"/></a>"
      ]
    },
    {
      "cell_type": "code",
      "execution_count": 31,
      "metadata": {
        "colab": {
          "base_uri": "https://localhost:8080/"
        },
        "id": "STBoGgVv5Slk",
        "outputId": "5c74d3d8-444e-4ef8-cc68-e2c35981f122"
      },
      "outputs": [
        {
          "output_type": "stream",
          "name": "stdout",
          "text": [
            "Drive already mounted at /content/drive; to attempt to forcibly remount, call drive.mount(\"/content/drive\", force_remount=True).\n"
          ]
        }
      ],
      "source": [
        "import pandas as pd\n",
        "import numpy as np\n",
        "from google.colab import drive\n",
        "from datetime import timedelta\n",
        "from sklearn.model_selection import train_test_split\n",
        "from sklearn import tree\n",
        "from sklearn.model_selection import cross_val_score\n",
        "from sklearn.model_selection import GridSearchCV\n",
        "import matplotlib.pyplot as plt\n",
        "from sklearn import metrics\n",
        "from sklearn.ensemble import RandomForestClassifier\n",
        "\n",
        "drive.mount('/content/drive')\n",
        "\n",
        "#Функции для рассчета агрегаты нужных полей\n",
        "def count_correct(series):\n",
        "    return (series == 'correct').sum()\n",
        "def count_wrong(series):\n",
        "    return (series == 'wrong').sum()\n",
        "def count_viewed(series):\n",
        "    return (series == 'viewed').sum()\n",
        "def count_passed(series):\n",
        "    return (series == 'passed').sum()\n",
        "def count_discovered(series):\n",
        "    return (series == 'discovered').sum()\n",
        "def count_started_attempt(series):\n",
        "    return (series == 'started_attempt').sum()\n",
        "\n",
        "def get_correct_wrong_table (submission_initial, time_delta=None):\n",
        "\n",
        "    if time_delta is not None:\n",
        "        submission_initial['date_time'] = pd.to_datetime(submission_initial.timestamp, unit='s')\n",
        "        submission_first_date = submission_initial.groupby(['user_id'])['date_time'].min().reset_index(name='first_date')\n",
        "        submission_initial = submission_initial.merge(submission_first_date, on='user_id', how='left')\n",
        "        submission_initial = submission_initial[submission_initial.date_time <= submission_initial.first_date + timedelta(days=time_delta)]\n",
        "        submission_initial = submission_initial.drop(['date_time','first_date'],axis=1)\n",
        "\n",
        "    submission_initial = submission_initial.drop(['timestamp'],axis=1)\n",
        "\n",
        "    submission_initial_wrong_not_unique = submission_initial.copy()\n",
        "\n",
        "    submission_initial = submission_initial.drop_duplicates()\n",
        "\n",
        "    submission_initial_wrong_not_unique = submission_initial_wrong_not_unique.pivot_table(values='step_id',\n",
        "                                                                                          columns='submission_status',\n",
        "                                                                                          index='user_id',\n",
        "                                                                                          aggfunc='count'). \\\n",
        "                                                                                          fillna(0).reset_index()\n",
        "    submission_initial_wrong_not_unique = submission_initial_wrong_not_unique.drop(['correct'],axis=1)\n",
        "\n",
        "    submission_initial = submission_initial.pivot_table(values='step_id', columns='submission_status',index='user_id', \\\n",
        "                                                        aggfunc=pd.Series.nunique).fillna(0).reset_index()\n",
        "    submission_initial = submission_initial.drop(['wrong'], axis=1)\n",
        "    submission_initial = submission_initial.merge(submission_initial_wrong_not_unique, on='user_id',how='left').fillna(0)\n",
        "\n",
        "    return submission_initial\n",
        "\n",
        "def get_events_first2Days (events_initial,submission_initial):\n",
        "    events_initial['date_time'] = pd.to_datetime(events_initial.timestamp,unit='s')\n",
        "\n",
        "    first_2_Days = events_initial.groupby(['user_id'])['date_time'].min().reset_index(name='first_date')\n",
        "\n",
        "    events_initial = events_initial.merge(first_2_Days, on='user_id', how='left')\n",
        "    events_initial = events_initial[events_initial.date_time <= events_initial.first_date + timedelta(days=2)]\n",
        "    events_initial = events_initial.drop(['timestamp', 'date_time', 'first_date'],axis=1)\n",
        "    events_initial = events_initial.pivot_table(values='step_id', index='user_id', columns='action',aggfunc='count').fillna(0)\n",
        "\n",
        "    pass_not_pass_table = get_correct_wrong_table(submission_initial)\n",
        "\n",
        "    events_initial = events_initial.merge(pass_not_pass_table, on='user_id', how='left').fillna(0)\n",
        "    events_initial['passed_course'] = events_initial.correct > 40\n",
        "    events_initial = events_initial.drop(['correct', 'wrong'],axis=1)\n",
        "    submits_first2Days = get_correct_wrong_table(submission_initial, time_delta=2)\n",
        "    events_initial = events_initial.merge(submits_first2Days, on='user_id', how='left').fillna(0)\n",
        "\n",
        "    return events_initial\n",
        "\n",
        "def get_test_data(events_initial, submission_initial):\n",
        "    submission_table = get_correct_wrong_table(submission_initial)\n",
        "    events_initial = events_initial.drop(['timestamp'],axis=1)\n",
        "    events_initial = events_initial.pivot_table(values='step_id', index='user_id', columns='action',aggfunc='count').fillna(0)\n",
        "    result_table = pd.merge(events_initial, submission_table, how='left', on='user_id').fillna(0)\n",
        "\n",
        "    return result_table"
      ]
    },
    {
      "cell_type": "code",
      "source": [
        "events_initial = pd.read_csv('/content/drive/MyDrive/DS data/events_data_train.csv')\n",
        "submission_initial = pd.read_csv('/content/drive/MyDrive/DS data/submissions_data_train.csv')\n",
        "user_data = get_events_first2Days(events_initial, submission_initial)\n",
        "user_data = user_data.set_index('user_id')\n",
        "\n",
        "\n",
        "set_x = user_data.drop(['passed_course'],axis=1)\n",
        "set_y =pd.DataFrame(user_data['passed_course'])\n",
        "#set_x.to_csv('/content/drive/MyDrive/DS data/x.csv')\n",
        "#set_y.to_csv('/content/drive/MyDrive/DS data/y.csv')\n",
        "X_train, X_test, y_train, y_test = train_test_split(set_x, set_y, train_size = 0.8)\n",
        "clf = RandomForestClassifier(criterion='entropy')\n",
        "\n",
        "param_grid = {'n_estimators':range(1,60,10), 'max_depth':range(1,50,10),'min_samples_leaf': range(1,50,10),'min_samples_split': range(1,50,10)}\n",
        "grid = GridSearchCV(clf,param_grid,cv=5)\n"
      ],
      "metadata": {
        "id": "E4rS84c9foSm"
      },
      "execution_count": 25,
      "outputs": []
    },
    {
      "cell_type": "code",
      "source": [
        "grid.fit(X_train,y_train.values.ravel())\n",
        "tree_cls = grid.best_estimator_\n",
        "print(grid.best_params_)\n",
        "grid.best_score_"
      ],
      "metadata": {
        "id": "IDeMv_PACj9n"
      },
      "execution_count": null,
      "outputs": []
    },
    {
      "cell_type": "code",
      "source": [
        "y_pred = tree_cls.predict_proba(X_test)\n",
        "metrics.roc_auc_score(y_test, y_pred[:,1])"
      ],
      "metadata": {
        "colab": {
          "base_uri": "https://localhost:8080/"
        },
        "id": "OZT5qfbx_vSI",
        "outputId": "970204d1-89e3-4a8b-e0c4-cd2b99bc3366"
      },
      "execution_count": 29,
      "outputs": [
        {
          "output_type": "execute_result",
          "data": {
            "text/plain": [
              "0.8834163765593269"
            ]
          },
          "metadata": {},
          "execution_count": 29
        }
      ]
    },
    {
      "cell_type": "code",
      "source": [
        "fpr, tpr, thresholds = metrics.roc_curve(y_test, y_pred[:,1])\n",
        "plt.plot(fpr,tpr)\n",
        "plt.ylabel('Precision')\n",
        "plt.xlabel('Recall')\n",
        "plt.show()"
      ],
      "metadata": {
        "colab": {
          "base_uri": "https://localhost:8080/",
          "height": 449
        },
        "id": "agqyHX7ROkVi",
        "outputId": "703be547-b489-49e7-cf28-8c5bd7ffa9d7"
      },
      "execution_count": 30,
      "outputs": [
        {
          "output_type": "display_data",
          "data": {
            "text/plain": [
              "<Figure size 640x480 with 1 Axes>"
            ],
            "image/png": "[encoded data removed]"
          },
          "metadata": {}
        }
      ]
    },
    {
      "cell_type": "code",
      "source": [
        "events_initial = pd.read_csv('/content/drive/MyDrive/DS data/events_data_test.csv')\n",
        "submission_initial = pd.read_csv('/content/drive/MyDrive/DS data/submissions_data_test.csv')\n",
        "user_data = get_test_data(events_initial, submission_initial)\n",
        "user_data = user_data.set_index('user_id')\n",
        "y_pred = tree_cls.predict_proba(user_data)\n",
        "user_data['prediction'] = y_pred[:,1]\n",
        "user_data = user_data.drop(['discovered','passed','started_attempt','discovered','correct','viewed','wrong'],axis=1)\n",
        "user_data.to_csv('/content/drive/MyDrive/DS data/res_alt.csv')"
      ],
      "metadata": {
        "id": "oHaiVtprVCXP"
      },
      "execution_count": 46,
      "outputs": []
    },
    {
      "cell_type": "code",
      "source": [],
      "metadata": {
        "id": "neQgg0YZye4w"
      },
      "execution_count": null,
      "outputs": []
    },
    {
      "cell_type": "code",
      "source": [],
      "metadata": {
        "id": "jEMiHBB-ytkF"
      },
      "execution_count": 34,
      "outputs": []
    },
    {
      "cell_type": "code",
      "source": [],
      "metadata": {
        "id": "k9n5a3U5yvol"
      },
      "execution_count": 37,
      "outputs": []
    },
    {
      "cell_type": "code",
      "source": [],
      "metadata": {
        "id": "39HCCjXPzKEL"
      },
      "execution_count": 41,
      "outputs": []
    },
    {
      "cell_type": "code",
      "source": [],
      "metadata": {
        "id": "_h2lrjmQzTWn"
      },
      "execution_count": 44,
      "outputs": []
    }
  ]
}
