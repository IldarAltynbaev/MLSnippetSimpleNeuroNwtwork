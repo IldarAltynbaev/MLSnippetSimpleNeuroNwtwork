{
  "nbformat": 4,
  "nbformat_minor": 0,
  "metadata": {
    "colab": {
      "provenance": [],
      "authorship_tag": "ABX9TyMz2Piu/+BdHvcHcH7BDPMn",
      "include_colab_link": true
    },
    "kernelspec": {
      "name": "python3",
      "display_name": "Python 3"
    },
    "language_info": {
      "name": "python"
    }
  },
  "cells": [
    {
      "cell_type": "markdown",
      "metadata": {
        "id": "view-in-github",
        "colab_type": "text"
      },
      "source": [
        "<a href=\"https://colab.research.google.com/github/IldarAltynbaev/MLSnippetSimpleNeuroNwtwork/blob/TestingColab/TaskFromStepik.ipynb\" target=\"_parent\"><img src=\"https://colab.research.google.com/assets/colab-badge.svg\" alt=\"Open In Colab\"/></a>"
      ]
    },
    {
      "cell_type": "code",
      "execution_count": 168,
      "metadata": {
        "id": "wrpq66yPv01L"
      },
      "outputs": [],
      "source": [
        "import torch\n",
        "from abc import ABC, abstractmethod\n",
        "\n",
        "\n",
        "def calc_out_shape(input_matrix_shape, out_channels, kernel_size, stride, padding):\n",
        "    batch_size, channels_count, input_height, input_width = input_matrix_shape\n",
        "    output_height = (input_height + 2 * padding - (kernel_size - 1) - 1) // stride + 1\n",
        "    output_width = (input_width + 2 * padding - (kernel_size - 1) - 1) // stride + 1\n",
        "\n",
        "    return batch_size, out_channels, output_height, output_width\n",
        "\n",
        "\n",
        "class ABCConv2d(ABC):\n",
        "    def __init__(self, in_channels, out_channels, kernel_size, stride):\n",
        "        self.in_channels = in_channels\n",
        "        self.out_channels = out_channels\n",
        "        self.kernel_size = kernel_size\n",
        "        self.stride = stride\n",
        "\n",
        "    def set_kernel(self, kernel):\n",
        "        self.kernel = kernel\n",
        "\n",
        "    @abstractmethod\n",
        "    def __call__(self, input_tensor):\n",
        "        pass\n",
        "\n",
        "\n",
        "class Conv2d(ABCConv2d):\n",
        "    def __init__(self, in_channels, out_channels, kernel_size, stride):\n",
        "        self.conv2d = torch.nn.Conv2d(in_channels, out_channels, kernel_size,\n",
        "                                      stride, padding=0, bias=False)\n",
        "\n",
        "    def set_kernel(self, kernel):\n",
        "        self.conv2d.weight.data = kernel\n",
        "\n",
        "    def __call__(self, input_tensor):\n",
        "        return self.conv2d(input_tensor)\n",
        "\n",
        "\n",
        "def create_and_call_conv2d_layer(conv2d_layer_class, stride, kernel, input_matrix):\n",
        "    out_channels = kernel.shape[0]\n",
        "    in_channels = kernel.shape[1]\n",
        "    kernel_size = kernel.shape[2]\n",
        "\n",
        "    layer = conv2d_layer_class(in_channels, out_channels, kernel_size, stride)\n",
        "    layer.set_kernel(kernel)\n",
        "\n",
        "    return layer(input_matrix)\n",
        "\n",
        "\n",
        "def test_conv2d_layer(conv2d_layer_class, batch_size=2,\n",
        "                      input_height=4, input_width=4, stride=2):\n",
        "    kernel = torch.tensor(\n",
        "                      [[[[0., 1, 0],\n",
        "                         [1,  2, 1],\n",
        "                         [0,  1, 0]],\n",
        "\n",
        "                        [[1, 2, 1],\n",
        "                         [0, 3, 3],\n",
        "                         [0, 1, 10]],\n",
        "\n",
        "                        [[10, 11, 12],\n",
        "                         [13, 14, 15],\n",
        "                         [16, 17, 18]]]])\n",
        "\n",
        "    in_channels = kernel.shape[1]\n",
        "\n",
        "    input_tensor = torch.arange(0, batch_size * in_channels *\n",
        "                                input_height * input_width,\n",
        "                                out=torch.FloatTensor()) \\\n",
        "        .reshape(batch_size, in_channels, input_height, input_width)\n",
        "\n",
        "    custom_conv2d_out = create_and_call_conv2d_layer(\n",
        "        conv2d_layer_class, stride, kernel, input_tensor)\n",
        "    conv2d_out = create_and_call_conv2d_layer(\n",
        "        Conv2d, stride, kernel, input_tensor)\n",
        "   # print(conv2d_out.shape)\n",
        "    #print(conv2d_out)\n",
        "    return torch.allclose(custom_conv2d_out, conv2d_out) \\\n",
        "             and (custom_conv2d_out.shape == conv2d_out.shape)\n"
      ]
    },
    {
      "cell_type": "code",
      "source": [
        "class Conv2dLoop(ABCConv2d):\n",
        "    def __call__(self, input_tensor):\n",
        "        output_height = (input_tensor.shape[2] + 2 * 0 - (self.kernel_size - 1) - 1) // self.stride + 1\n",
        "\n",
        "        output_width = (input_tensor.shape[3] + 2 * 0 - (self.kernel_size - 1) - 1) // self.stride + 1\n",
        "        output_tensor = torch.zeros(input_tensor.shape[0],self.kernel.shape[0], output_height, output_width )\n",
        "        print(output_tensor)\n",
        "\n",
        "        for batch_number in range(input_tensor.shape[0]):\n",
        "          current_dot_tensor = torch.zeros(self.kernel.shape[1], output_height, output_width)\n",
        "          for each_kernel in range(self.kernel.shape[0]):\n",
        "\n",
        "            for each_kernel_layer in range(self.kernel.shape[1]):\n",
        "              current_channel = input_tensor[batch_number, each_kernel_layer]\n",
        "              i = 0\n",
        "              j = 0\n",
        "\n",
        "              for each_hight in range(0, input_tensor.shape[2], self.stride):\n",
        "                if (each_hight + self.kernel_size) < input_tensor.shape[2]:\n",
        "                  j = 0\n",
        "                  ++i\n",
        "                  for each_wight in range(0, input_tensor.shape[3], self.stride):\n",
        "                    if (each_wight+self.kernel_size) < input_tensor.shape[3]:\n",
        "                      high = each_hight + self.kernel_size\n",
        "                      width = each_wight+self.kernel_size\n",
        "                      high = int(high)\n",
        "                      width = int(width)\n",
        "\n",
        "                      #print(current_channel[each_hight:high, each_wight:width])\n",
        "                      #print(self.kernel[each_kernel, each_kernel_layer])\n",
        "                      dot_product = current_channel[each_hight:high, each_wight:width]*self.kernel[each_kernel, each_kernel_layer]\n",
        "                      #print(int(dot_product.sum()))\n",
        "                      current_dot_tensor[each_kernel_layer, i, j] = dot_product.sum()\n",
        "                      #output_tensor[batch_number, self.kernel.shape[each_kernel], i, j] = dot_product.sum()\n",
        "                      ++j\n",
        "          #print(current_dot_tensor.shape)\n",
        "          #print(current_dot_tensor)\n",
        "          current_dot_tensor = torch.sum(current_dot_tensor, dim = 0, keepdim=False)\n",
        "          #print(current_dot_tensor.shape)\n",
        "          for col in range(output_height):\n",
        "            for row in range(output_width):\n",
        "              output_tensor[batch_number, each_kernel, col, row] = current_dot_tensor[i,j]\n",
        "              #print(batch_number, each_kernel, col, row)\n",
        "              #print(current_dot_tensor[i,j])\n",
        "          #output_tensor[batch_number, each_kernel, i1, j1] = current_dot_tensor.reshape(-1).sum()\n",
        "          #batch_sum = sum(batch_sum)\n",
        "          #print(output_tensor)\n",
        "\n",
        "        return output_tensor\n",
        "\n",
        "print(test_conv2d_layer(Conv2dLoop))\n"
      ],
      "metadata": {
        "colab": {
          "base_uri": "https://localhost:8080/"
        },
        "id": "2ERGbMkIyV89",
        "outputId": "a27e3f41-5596-474b-f34b-7059eb1999d1"
      },
      "execution_count": 182,
      "outputs": [
        {
          "output_type": "stream",
          "name": "stdout",
          "text": [
            "tensor([[[[0.]]],\n",
            "\n",
            "\n",
            "        [[[0.]]]])\n",
            "True\n"
          ]
        }
      ]
    }
  ]
}